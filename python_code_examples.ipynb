{
  "nbformat": 4,
  "nbformat_minor": 0,
  "metadata": {
    "colab": {
      "provenance": [],
      "authorship_tag": "ABX9TyOoX2RmjWyA0Iyy2X57BhsW",
      "include_colab_link": true
    },
    "kernelspec": {
      "name": "python3",
      "display_name": "Python 3"
    },
    "language_info": {
      "name": "python"
    }
  },
  "cells": [
    {
      "cell_type": "markdown",
      "metadata": {
        "id": "view-in-github",
        "colab_type": "text"
      },
      "source": [
        "<a href=\"https://colab.research.google.com/github/vikisaintgits/basic-python-for-machine-learning/blob/main/python_code_examples.ipynb\" target=\"_parent\"><img src=\"https://colab.research.google.com/assets/colab-badge.svg\" alt=\"Open In Colab\"/></a>"
      ]
    },
    {
      "cell_type": "markdown",
      "source": [
        "##Program to find the largest among three numbers\n",
        "- **Step 1 :** Take input from User\n",
        "- **Step 2 :** Find the largest number using conditional `if elis else`\n",
        "- **Step 3 :** Print the largest number"
      ],
      "metadata": {
        "id": "tDNJ5vdq9Hof"
      }
    },
    {
      "cell_type": "code",
      "execution_count": null,
      "metadata": {
        "colab": {
          "base_uri": "https://localhost:8080/"
        },
        "id": "4ZZBzbA-8eoj",
        "outputId": "c635b2dd-169b-429e-8427-1b3a92a18007"
      },
      "outputs": [
        {
          "output_type": "stream",
          "name": "stdout",
          "text": [
            "enter 1st number1\n",
            "enter 2nd number3\n",
            "enter 3rd number2\n",
            "3 is big\n"
          ]
        }
      ],
      "source": [
        "#take input from the users \n",
        "num1=int(input(\"enter 1st number\"))\n",
        "num2=int(input(\"enter 2nd number\"))\n",
        "num3=int(input(\"enter 3rd number\"))\n",
        "\n",
        "#find the largest number\n",
        "if(num1>num2):\n",
        "  if(num1>num3):\n",
        "    print(f\"{num1} is big\")\n",
        "  else:\n",
        "    print(f\"{num3} is big\")\n",
        "elif(num2>num3):\n",
        "  print(f\"{num2} is big\")\n",
        "else:\n",
        "    print(f\"{num3} is big\")\n"
      ]
    },
    {
      "cell_type": "markdown",
      "source": [
        "##Printing multiplication table of a number\n",
        "\n",
        "- **Step 1 :** Read the number from the User\n",
        "- **Step 2 :** Iterate over the range from 1 to 10 `range(0,11)`\n",
        "- **Step 3 :** Print the product in each iteration\n"
      ],
      "metadata": {
        "id": "QfC4iVTw-uaW"
      }
    },
    {
      "cell_type": "code",
      "source": [
        "#take input from the users \n",
        "num=int(input(\"enter number\"))\n",
        "#iteration\n",
        "for i in range(0,11):\n",
        "  #output\n",
        "  print(f\"{i}*{num}={i*num}\")"
      ],
      "metadata": {
        "colab": {
          "base_uri": "https://localhost:8080/"
        },
        "id": "qPro2iJe9g-n",
        "outputId": "71f4b327-9bc2-427e-b685-57455e11c94f"
      },
      "execution_count": null,
      "outputs": [
        {
          "output_type": "stream",
          "name": "stdout",
          "text": [
            "enter number3\n",
            "0*3=0\n",
            "1*3=3\n",
            "2*3=6\n",
            "3*3=9\n",
            "4*3=12\n",
            "5*3=15\n",
            "6*3=18\n",
            "7*3=21\n",
            "8*3=24\n",
            "9*3=27\n",
            "10*3=30\n"
          ]
        }
      ]
    },
    {
      "cell_type": "markdown",
      "source": [
        "##Checking the sign of a number\n",
        "- **Step 1 :** Read the number from the User \n",
        "- **Step 2 :** Check if the number is less than or greater than or equal to 0 using conditionals\n",
        "- **Step 3 :** Print the sign based on consitions\n"
      ],
      "metadata": {
        "id": "3YlIM_Ou_Z1f"
      }
    },
    {
      "cell_type": "code",
      "source": [
        "##input\n",
        "\n",
        "num=float(input(\"enter a number\"))\n",
        "\n",
        "#checking\n",
        "if num==0:\n",
        "  print(\"zero\")\n",
        "elif(num>0):\n",
        "  print(\"positive\")\n",
        "else:\n",
        "  print(\"negative\")"
      ],
      "metadata": {
        "colab": {
          "base_uri": "https://localhost:8080/"
        },
        "id": "C8pjv0IG_HxQ",
        "outputId": "acc6316d-a27a-45e1-debc-11a0e492e35d"
      },
      "execution_count": null,
      "outputs": [
        {
          "output_type": "stream",
          "name": "stdout",
          "text": [
            "enter a number23\n",
            "positive\n"
          ]
        }
      ]
    },
    {
      "cell_type": "markdown",
      "source": [
        "## Find surface area and volume of a cylinder\n",
        "\n",
        "Let $r$ is the base radius and $h$ is the height of a right circular cylinder.\n",
        "$$SA=2\\pi r(r+h)$$\n",
        "\n",
        "$$V=\\pi r^2 h$$\n",
        "\n",
        "- **Step 1 :** Read the height and radius from the user\n",
        "- **Step 2 :** Substitute the values to the equation\n",
        "- **Step 3 :** print the result after equating"
      ],
      "metadata": {
        "id": "emKztpr8Aeqn"
      }
    },
    {
      "cell_type": "code",
      "source": [
        "#from math import pi\n",
        "pi=3.14\n",
        "r=2.6\n",
        "h=1.6\n",
        "SA=2*pi*r*(r+h)\n",
        "V=pi*r**2*h\n",
        "print((\"Surface Area is {} and Volume is {}\").format(SA,V))"
      ],
      "metadata": {
        "colab": {
          "base_uri": "https://localhost:8080/"
        },
        "id": "FiB-k36VA-Ig",
        "outputId": "87585f1c-8049-4d87-8fc7-bac8ad6edb98"
      },
      "execution_count": null,
      "outputs": [
        {
          "output_type": "stream",
          "name": "stdout",
          "text": [
            "Surface Area is 68.57760000000002 and Volume is 33.96224\n"
          ]
        }
      ]
    },
    {
      "cell_type": "markdown",
      "source": [
        "##Find area of a circle with radius  r  using user input\n",
        "- **Step 1 :** Read the radius from the user\n",
        "- **Step 2 :** Substitute the values to the equation\n",
        "- **Step 3 :** print the result after equating"
      ],
      "metadata": {
        "id": "Rb_puyqmEM6I"
      }
    },
    {
      "cell_type": "code",
      "source": [
        "\"\"\"\n",
        "program to find area of a circle\n",
        "\"\"\"\n",
        "r=float(input(\"Enter the radius: \"))\n",
        "print(\"Area: \",pi*r**2)"
      ],
      "metadata": {
        "colab": {
          "base_uri": "https://localhost:8080/"
        },
        "id": "KRpdCvm5EZnK",
        "outputId": "37db2ac7-47bd-4024-feb7-f1c4f61b17ba"
      },
      "execution_count": null,
      "outputs": [
        {
          "output_type": "stream",
          "name": "stdout",
          "text": [
            "Enter the radius: 23\n",
            "Area:  1661.0600000000002\n"
          ]
        }
      ]
    },
    {
      "cell_type": "markdown",
      "source": [
        "##Find the area of a rectangle with lenght  l  and breadth  b\n",
        "- **Step 1 :** Read the length and breadth from the user\n",
        "- **Step 2 :** Substitute the values to the equation\n",
        "- **Step 3 :** print the result after equating"
      ],
      "metadata": {
        "id": "ex_qaIWMEef2"
      }
    },
    {
      "cell_type": "code",
      "source": [
        "l=2;b=5.2\n",
        "Area=l*b\n",
        "print(\"Area of the Rectangle is : \",Area)"
      ],
      "metadata": {
        "colab": {
          "base_uri": "https://localhost:8080/"
        },
        "id": "a8j8l9vMFh2J",
        "outputId": "b71a9448-2bd0-4331-ce43-40221cbb84fe"
      },
      "execution_count": null,
      "outputs": [
        {
          "output_type": "stream",
          "name": "stdout",
          "text": [
            "Area of the Rectangle is :  10.4\n"
          ]
        }
      ]
    },
    {
      "cell_type": "markdown",
      "source": [
        "## Replacing a word with another word  in a sentence\n",
        "\n",
        "Use the `replace()` method in `python`\n",
        "\n",
        ">**Syntax:**\n",
        "\n",
        "```\n",
        "str.replace(old,new)\n",
        "```\n",
        "\n",
        "- **Step 1 :** Read the sentance from the user\n",
        "- **Step 2 :** Read the word to be changed and word to change from the user\n",
        "- **Step 3 :** Call `replace()` method on the sentance with inputs as paremeter\n",
        "- **Step 4 :** Print the updated sentance"
      ],
      "metadata": {
        "id": "aOFMAhLcEtXA"
      }
    },
    {
      "cell_type": "code",
      "source": [
        "# program to replace a word by another word in a sentence\n",
        "\n",
        "text = 'hand ball is a hand full of hands'\n",
        "\n",
        "# replace 'hand' with 'foot'\n",
        "replaced_text = text.replace('hand ', 'foot ')\n",
        "print(replaced_text)"
      ],
      "metadata": {
        "colab": {
          "base_uri": "https://localhost:8080/"
        },
        "id": "PoGZ2PXwFgfC",
        "outputId": "6edfdd35-70c0-42e9-b3f8-bb1719dc73bb"
      },
      "execution_count": null,
      "outputs": [
        {
          "output_type": "stream",
          "name": "stdout",
          "text": [
            "foot ball is a foot full of hands\n"
          ]
        }
      ]
    },
    {
      "cell_type": "markdown",
      "source": [
        "## Program to remove a word from a sentence\n",
        "\n",
        "We will use the string method `remove()`.\n",
        "\n",
        ">**Syntax:**\n",
        "\n",
        "```\n",
        "str.remove(word to be removed)\n",
        "```\n",
        "\n",
        "- **Step 1 :** Read the sentance from the user\n",
        "- **Step 2 :** Read the word to remove from the user\n",
        "- **Step 3 :** Call `remove()` method on the sentance with input as paremeter\n",
        "- **Step 4 :** Print the updated sentance"
      ],
      "metadata": {
        "id": "zUIeWrKlFjgh"
      }
    },
    {
      "cell_type": "code",
      "source": [
        "# program to remove a word from a sentence\n",
        "text = input(\"Enter the String: \")\n",
        "word = input(\"Enter a Word to Delete: \")\n",
        "\n",
        "text = text.replace(word, \"\")\n",
        "print(\"The updated sentence is:\\n\")\n",
        "print(text)"
      ],
      "metadata": {
        "colab": {
          "base_uri": "https://localhost:8080/"
        },
        "id": "cKxO2_WvFvnx",
        "outputId": "e302ec1a-1988-4aa2-bf95-ce2dcaf8e12a"
      },
      "execution_count": null,
      "outputs": [
        {
          "output_type": "stream",
          "name": "stdout",
          "text": [
            "Enter the String: hello world\n",
            "Enter a Word to Delete: world\n",
            "The updated sentence is:\n",
            "\n",
            "hello \n"
          ]
        }
      ]
    },
    {
      "cell_type": "markdown",
      "source": [
        "## Program to split a sentence into words\n",
        "\n",
        "use the `split()` method\n",
        ">**Syntax:**\n",
        "```\n",
        "str.split()\n",
        "```\n",
        "- **Step 1 :** Read the sentance from the user\n",
        "- **Step 2 :** Call `split()` method on the sentance and store the return value\n",
        "- **Step 3 :** Print the returned list"
      ],
      "metadata": {
        "id": "IH1xMgOOFzix"
      }
    },
    {
      "cell_type": "code",
      "source": [
        "wordlist = text.split()\n",
        "wordlist"
      ],
      "metadata": {
        "colab": {
          "base_uri": "https://localhost:8080/"
        },
        "id": "a5bc9W_PF2xY",
        "outputId": "17275a58-35bc-45ee-9272-4beab43551b4"
      },
      "execution_count": null,
      "outputs": [
        {
          "output_type": "execute_result",
          "data": {
            "text/plain": [
              "['hello']"
            ]
          },
          "metadata": {},
          "execution_count": 30
        }
      ]
    },
    {
      "cell_type": "markdown",
      "source": [
        "## Program to check if a list of words is in a long string at least one\n",
        "- **Step 1 :** Create a list of words\n",
        "- **Step 2 :** Read the sentance from the user\n",
        "- **Step 3 :** Call `split()` method on the sentance and store the return value\n",
        "- **Step 4 :** Check if the splitted list and our word list have common elements\n",
        "- **Step 5 :** print found if elements exists"
      ],
      "metadata": {
        "id": "wC0rt3YdGF_B"
      }
    },
    {
      "cell_type": "code",
      "source": [
        "# program to check atleat one occurance of keywords\n",
        "\n",
        "keyword_list = ['motorcycle', 'bike', 'bicycle', 'dirtbike', \"long\"]\n",
        "all_text = 'The bicycle is just as good company as most husbands and, when it gets old and shabby, a woman can dispose of it and get a new one without shocking the entire community'\n",
        "if set(keyword_list).intersection(all_text.split()):\n",
        "     print(\"Found One\")"
      ],
      "metadata": {
        "colab": {
          "base_uri": "https://localhost:8080/"
        },
        "id": "Qcw_T_oeG3Y6",
        "outputId": "a169dfec-44b0-4432-b987-88ef41e51700"
      },
      "execution_count": null,
      "outputs": [
        {
          "output_type": "stream",
          "name": "stdout",
          "text": [
            "Found One\n"
          ]
        }
      ]
    },
    {
      "cell_type": "markdown",
      "source": [
        "## program to check a number is even or odd\n",
        "- **Step 1 :** Read a number form the user\n",
        "- **Step 2 :** Check if the number is divisible by 2 using conditional\n",
        "- **Step 3 :** if divisible display even else display odd"
      ],
      "metadata": {
        "id": "lVud1SUBHNdR"
      }
    },
    {
      "cell_type": "code",
      "source": [
        "num = int(input(\"Enter the Number: \"))\n",
        "if num%2==0:\n",
        "    print(\"\\n\",num,\"is an Even Number\")\n",
        "else:\n",
        "    print(\"\\n\",num,\"is an Odd Number\")"
      ],
      "metadata": {
        "colab": {
          "base_uri": "https://localhost:8080/"
        },
        "id": "qFq4yLNIHmXK",
        "outputId": "87bd9a7a-6c37-4daa-baf0-2256924eca44"
      },
      "execution_count": null,
      "outputs": [
        {
          "output_type": "stream",
          "name": "stdout",
          "text": [
            "Enter the Number: 2\n",
            "\n",
            " 2 is an Even Number\n"
          ]
        }
      ]
    },
    {
      "cell_type": "markdown",
      "source": [
        "## Program to check whether an entered one is an alphabet or not\n",
        "- **Step 1 :** Read a input form the user\n",
        "- **Step 2 :** Check if the input is the range of `a-z or A-Z` using conditional\n",
        "- **Step 3 :** if true display \"alphabet\" else display \"not an alphabet\""
      ],
      "metadata": {
        "id": "p3MjlSbJHoEx"
      }
    },
    {
      "cell_type": "code",
      "source": [
        "c = input(\"Enter a Character: \")\n",
        "if c>='a' and c<='z':\n",
        "    print(\"\\nIt is an alphabet\")\n",
        "elif c>='A' and c<='z':\n",
        "    print(\"\\nIt is an alphabet\")\n",
        "else:\n",
        "    print(\"\\nIt is not an alphabet!\")"
      ],
      "metadata": {
        "colab": {
          "base_uri": "https://localhost:8080/"
        },
        "id": "sSa8XiQEIplA",
        "outputId": "7a7019c8-29ff-4109-e2ff-6efa673a3d95"
      },
      "execution_count": null,
      "outputs": [
        {
          "output_type": "stream",
          "name": "stdout",
          "text": [
            "Enter a Character: a\n",
            "\n",
            "It is an alphabet\n"
          ]
        }
      ]
    },
    {
      "cell_type": "markdown",
      "source": [
        "## Program to check whether an entered letter is a vowel or not\n",
        "- **Step 1 :** Read a input form the user\n",
        "- **Step 2 :** Create a list of vowels\n",
        "- **Step 3 :** Check if the input exists in the vowel set\n",
        "- **Step 3 :** if true display \"vowel\" else display \"not a vowel\""
      ],
      "metadata": {
        "id": "J41jGzUkIzJc"
      }
    },
    {
      "cell_type": "code",
      "source": [
        "c = input(\"Enter the Character: \")\n",
        "v={'a','e','i','o','u','A','E','I','O','U'}\n",
        "if c in v:\n",
        "    print(\"\\nIt is a Vowel\")\n",
        "else:\n",
        "    print(\"\\nIt is a Consonant\")"
      ],
      "metadata": {
        "id": "OXJGGptEJSei"
      },
      "execution_count": null,
      "outputs": []
    },
    {
      "cell_type": "markdown",
      "source": [
        "##Program to check leap year\n",
        "- **Step 1 :** Read a input year from the user\n",
        "- **Step 3 :** Check if the year is divisible by 4 and 100 or 400\n",
        "- **Step 3 :** if divisible display \"leap year\" else display \"not a leap year\""
      ],
      "metadata": {
        "id": "CwlwcU_xJTK6"
      }
    },
    {
      "cell_type": "code",
      "source": [
        "y = int(input(\"Enter the Year: \"))\n",
        "\n",
        "if y%4==0 and y%100!=0:\n",
        "    print(\"\\nIt is a Leap Year\")\n",
        "elif y%400==0:\n",
        "    print(\"\\nIt is a Leap Year\")\n",
        "else:\n",
        "    print(\"\\nIt is not a Leap Year\")"
      ],
      "metadata": {
        "id": "MpD6jWQAJrZh"
      },
      "execution_count": null,
      "outputs": []
    },
    {
      "cell_type": "markdown",
      "source": [
        "# Programs with iteratives\n",
        "-----------------"
      ],
      "metadata": {
        "id": "vz2ZLvryun46"
      }
    },
    {
      "cell_type": "markdown",
      "source": [
        "## Program to check whether a number is a perfect number or not\n",
        "\n",
        "A number $n$ is called a perfect number if sum of all its divisors gives $n$.\n",
        "\n",
        "- **Step 1 :** Read a number from the user\n",
        "- **Step 2 :** initialise a sum variable as 0\n",
        "- **Step 3 :** Loop over range from 0 to the number \n",
        "- **Step 4 :** In each Iteration check if the number is divisible to the loop number if so,add the number to the sum\n",
        "- **Step 5 :** Check if the sum is equal to the number itself using conditionals\n",
        "- **Step 6 :** if same display \"Perfect number\""
      ],
      "metadata": {
        "id": "wIpKRZf8rSFh"
      }
    },
    {
      "cell_type": "code",
      "source": [
        "num = int(input(\"Enter the Number:\"))\n",
        "sum = 0\n",
        "for i in range(1, num):\n",
        "  if num%i==0:\n",
        "    sum = sum+i\n",
        "if num==sum:\n",
        "  print(\"It is a Perfect Number\")\n",
        "else:\n",
        "  print(\"It is not a Perfect Number\")"
      ],
      "metadata": {
        "id": "4AG8YJ1yN_RD"
      },
      "execution_count": null,
      "outputs": []
    },
    {
      "cell_type": "markdown",
      "source": [
        "## Program to test whether reversal of a number is same as itself\n",
        "- **Step 1 :** Read a input from the user\n",
        "- **Step 2 :** reverse the number using while loop by adding the ones place values after each iteration\n",
        "- **Step 3 :** check if the revese is equal to the original number\n"
      ],
      "metadata": {
        "id": "azoRFThntacI"
      }
    },
    {
      "cell_type": "code",
      "source": [
        "## Program to list all perfect number below a limit\n",
        "num = int(input(\"Enter the limit:\"))\n",
        "print(\"Perfect numbers are:\")\n",
        "print(\"***\"*10)\n",
        "pn=[]\n",
        "for n in range(1,num):\n",
        "  sum = 0\n",
        "  for i in range(1, n):\n",
        "    if n%i==0:\n",
        "      sum = sum+i\n",
        "  if n==sum:\n",
        "    pn.append(n)\n",
        "print(pn)\n",
        "  "
      ],
      "metadata": {
        "id": "mBUtTyE4N_o7"
      },
      "execution_count": null,
      "outputs": []
    },
    {
      "cell_type": "markdown",
      "source": [
        "## Program to find sum of digits in a number"
      ],
      "metadata": {
        "id": "LCpDPbkxuv0K"
      }
    },
    {
      "cell_type": "code",
      "source": [
        "num = int(input(\"Enter a Number\"))\n",
        "sum = 0\n",
        "while num>0:\n",
        "    rem = num%10\n",
        "    sum = sum+rem\n",
        "    num = num//10\n",
        "print(\"\\nSum of Digits of Given Number: \", sum)"
      ],
      "metadata": {
        "colab": {
          "base_uri": "https://localhost:8080/"
        },
        "id": "4Uy1GdK4u0Ik",
        "outputId": "f083d3e5-3daa-420c-9789-81d009ec29d7"
      },
      "execution_count": null,
      "outputs": [
        {
          "output_type": "stream",
          "name": "stdout",
          "text": [
            "Enter a Number7589\n",
            "\n",
            "Sum of Digits of Given Number:  29\n"
          ]
        }
      ]
    },
    {
      "cell_type": "markdown",
      "source": [
        "## Program to find the sum of first and last digit of a number"
      ],
      "metadata": {
        "id": "u0mGKD8zvTE2"
      }
    },
    {
      "cell_type": "code",
      "source": [
        "num = int(input(\"Enter a Number: \"))\n",
        "\n",
        "count = 0\n",
        "while num!=0:\n",
        "    if count==0:\n",
        "        last = num%10\n",
        "        count = count+1\n",
        "    rem = num%10\n",
        "    num = int(num/10)\n",
        "\n",
        "sum = rem + last\n",
        "print(\"\\nSum of first and last digit =\", sum)"
      ],
      "metadata": {
        "id": "CSriuS_ivY6A"
      },
      "execution_count": null,
      "outputs": []
    },
    {
      "cell_type": "markdown",
      "source": [
        "## Program to print first and last digit of a number"
      ],
      "metadata": {
        "id": "smVhW0qbvOO0"
      }
    },
    {
      "cell_type": "code",
      "source": [
        "num = int(input(\"Enter a Number: \"))\n",
        "org=num\n",
        "count = 0\n",
        "while num!=0:\n",
        "    if count==0:\n",
        "        last = num%10\n",
        "        count = count+1\n",
        "    rem = num%10\n",
        "    num = num//10\n",
        "FL=[rem,last]\n",
        "print(\"\\nThe first and last digit of \", org ,\" are: \", FL)"
      ],
      "metadata": {
        "colab": {
          "base_uri": "https://localhost:8080/"
        },
        "id": "1_Z5qGQUvgou",
        "outputId": "e8dc0673-cac2-4aac-d6a9-35d197aa410f"
      },
      "execution_count": null,
      "outputs": [
        {
          "output_type": "stream",
          "name": "stdout",
          "text": [
            "Enter a Number: 786\n",
            "\n",
            "The first and last digit of  786  are:  [7, 6]\n"
          ]
        }
      ]
    },
    {
      "cell_type": "markdown",
      "source": [
        "## Python program to display even and odd members in a tuple"
      ],
      "metadata": {
        "id": "R-_QxAxvzqHJ"
      }
    },
    {
      "cell_type": "code",
      "source": [
        "\"\"\"\n",
        "Python Program:\n",
        " Using slice [] operator to iterate over a specific parts of a tuple to print odd and even members\n",
        "\"\"\"\n",
        "even=[];odd=[]\n",
        "tuple_created = (\"p\", \"r\", \"o\", \"g\", \"r\", \"a\", \"m\", \"i\", \"z\")\n",
        "for char in tuple_created[ :  : 2]:\n",
        "   even.append(char)\n",
        "for char in tuple_created[1 :  : 2]:\n",
        "   odd.append(char)\n",
        "print(\"Even members: \",even,\"\\nOdd members: \",odd)\n"
      ],
      "metadata": {
        "colab": {
          "base_uri": "https://localhost:8080/"
        },
        "id": "vuDNoBYXzweI",
        "outputId": "7fe481bc-89db-4c3c-9b41-f36b5d264546"
      },
      "execution_count": null,
      "outputs": [
        {
          "output_type": "stream",
          "name": "stdout",
          "text": [
            "Even members:  ['p', 'o', 'r', 'm', 'z'] \n",
            "Odd members:  ['r', 'g', 'a', 'i']\n"
          ]
        }
      ]
    },
    {
      "cell_type": "markdown",
      "source": [
        "## Program to create  a book shop stock register using python dictionary"
      ],
      "metadata": {
        "id": "Fdk3KUDi2uIB"
      }
    },
    {
      "cell_type": "code",
      "source": [
        "n = eval(input('Num books: '))\n",
        "books = {}\n",
        "for i in range(n):\n",
        "    titlez = input(\"Enter Title: \")\n",
        "    ncopy = eval(input(\"Num of copies: \"))\n",
        "    books[titlez] = ncopy\n",
        "\n",
        "prob = input('Sell a book; enter YES or NO: ')\n",
        "if prob == 'YES' or 'yes':\n",
        "    choice = input('Enter book title: ')\n",
        "    if choice in books:\n",
        "        init_num = books[choice]\n",
        "        init_num -= 1\n",
        "        books[choice] = init_num\n",
        "        print(books)"
      ],
      "metadata": {
        "colab": {
          "base_uri": "https://localhost:8080/"
        },
        "id": "raSpV8kR284D",
        "outputId": "760cc849-4ba2-439c-be04-dc399dee8766"
      },
      "execution_count": null,
      "outputs": [
        {
          "output_type": "stream",
          "name": "stdout",
          "text": [
            "Num books: 2\n",
            "Enter Title: Calculus\n",
            "Num of copies: 5\n",
            "Enter Title: Linear Algebra\n",
            "Num of copies: 5\n",
            "Sell a book; enter YES or NO: yes\n",
            "Enter book title: Calculus\n",
            "{'Calculus': 4, 'Linear Algebra': 5}\n"
          ]
        }
      ]
    },
    {
      "cell_type": "markdown",
      "source": [
        ">**To remove a book from the stock**"
      ],
      "metadata": {
        "id": "Va8mV5v43jqF"
      }
    },
    {
      "cell_type": "code",
      "source": [
        "to_rem = input('Want to remove a book from the stock? YES or NO ')\n",
        "if to_rem == 'YES' or 'yes':\n",
        "    choice = input('Enter book title: ')\n",
        "    if choice in books:\n",
        "        books.pop(choice)\n",
        "        print(books)"
      ],
      "metadata": {
        "id": "hJ7pwxJH3rFS",
        "colab": {
          "base_uri": "https://localhost:8080/"
        },
        "outputId": "121d5599-767b-472d-b730-eef20fd87bb5"
      },
      "execution_count": null,
      "outputs": [
        {
          "output_type": "stream",
          "name": "stdout",
          "text": [
            "Want to remove a book from the stock? YES or NO yes\n",
            "Enter book title: 5\n",
            "{'Calculus': 4, 'Linear Algebra': 5, 'Thomas calculus': 3}\n"
          ]
        }
      ]
    },
    {
      "cell_type": "markdown",
      "source": [
        ">**To add a book to the stock**"
      ],
      "metadata": {
        "id": "NjTb4dV94hOp"
      }
    },
    {
      "cell_type": "code",
      "source": [
        "to_add = input('Want to add a book to the stock? YES or NO ')\n",
        "if to_add == 'YES' or 'yes':\n",
        "    choice = input('Enter book title: ')\n",
        "    nc=eval(input('Number of copies:'))\n",
        "    books[choice]=nc\n",
        "print(books)"
      ],
      "metadata": {
        "colab": {
          "base_uri": "https://localhost:8080/"
        },
        "id": "CRKVHdhx4qbW",
        "outputId": "df1587fd-5179-4e90-a120-307f172d4626"
      },
      "execution_count": null,
      "outputs": [
        {
          "output_type": "stream",
          "name": "stdout",
          "text": [
            "Want to add a book to the stock? YES or NO yes\n",
            "Enter book title: Thomas calculus\n",
            "Number of copies:3\n",
            "{'Calculus': 4, 'Linear Algebra': 5, '5': 2, 'Thomas calculus': 3}\n"
          ]
        }
      ]
    }
  ]
}